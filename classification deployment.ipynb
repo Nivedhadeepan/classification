{
 "cells": [
  {
   "cell_type": "code",
   "execution_count": 6,
   "id": "225351da-9f20-4434-aa6a-e58f57d75a0e",
   "metadata": {},
   "outputs": [],
   "source": [
    "import pickle"
   ]
  },
  {
   "cell_type": "code",
   "execution_count": 13,
   "id": "e0cde0cd-9f00-494b-aafe-2e8f7ef29c51",
   "metadata": {},
   "outputs": [
    {
     "ename": "NameError",
     "evalue": "name 'grid' is not defined",
     "output_type": "error",
     "traceback": [
      "\u001b[1;31m---------------------------------------------------------------------------\u001b[0m",
      "\u001b[1;31mNameError\u001b[0m                                 Traceback (most recent call last)",
      "Cell \u001b[1;32mIn[13], line 2\u001b[0m\n\u001b[0;32m      1\u001b[0m filename\u001b[38;5;241m=\u001b[39m\u001b[38;5;124m\"\u001b[39m\u001b[38;5;124mckd_final.sav\u001b[39m\u001b[38;5;124m\"\u001b[39m\n\u001b[1;32m----> 2\u001b[0m pickle\u001b[38;5;241m.\u001b[39mdump(grid,\u001b[38;5;28mopen\u001b[39m(filename,\u001b[38;5;124m\"\u001b[39m\u001b[38;5;124mwb\u001b[39m\u001b[38;5;124m\"\u001b[39m))\n",
      "\u001b[1;31mNameError\u001b[0m: name 'grid' is not defined"
     ]
    }
   ],
   "source": [
    "filename=\"ckd_final.sav\"\n",
    "pickle.dump(grid,open(filename,\"wb\"))\n"
   ]
  },
  {
   "cell_type": "code",
   "execution_count": 10,
   "id": "a7d95f99-469b-4e00-ad2f-4839dbfcfe56",
   "metadata": {},
   "outputs": [],
   "source": [
    "loaded_model=pickle.load(open(filename,\"rb\"))\n",
    "result=loaded_model.predict([[10,70,2,0,200,50,2,130,4,8,0,0,0,0,0,0,0,0,0,0,0,0,0,1,1,0,1]])"
   ]
  },
  {
   "cell_type": "code",
   "execution_count": 11,
   "id": "6992f99c-3f17-45b3-86bc-f3d2a6b04850",
   "metadata": {},
   "outputs": [
    {
     "data": {
      "text/plain": [
       "array([1])"
      ]
     },
     "execution_count": 11,
     "metadata": {},
     "output_type": "execute_result"
    }
   ],
   "source": [
    "result"
   ]
  },
  {
   "cell_type": "code",
   "execution_count": null,
   "id": "68f23131-e84f-4f93-8e4f-07b6ad56271d",
   "metadata": {},
   "outputs": [],
   "source": []
  }
 ],
 "metadata": {
  "kernelspec": {
   "display_name": "Python 3 (ipykernel)",
   "language": "python",
   "name": "python3"
  },
  "language_info": {
   "codemirror_mode": {
    "name": "ipython",
    "version": 3
   },
   "file_extension": ".py",
   "mimetype": "text/x-python",
   "name": "python",
   "nbconvert_exporter": "python",
   "pygments_lexer": "ipython3",
   "version": "3.12.7"
  }
 },
 "nbformat": 4,
 "nbformat_minor": 5
}
